{
 "cells": [
  {
   "cell_type": "markdown",
   "id": "1e7a32c2-20e2-454f-a672-917e12ba2722",
   "metadata": {},
   "source": [
    "# 1. Preparation"
   ]
  },
  {
   "cell_type": "code",
   "execution_count": 1,
   "id": "73e649f3-dd5f-4c34-9978-710a18290091",
   "metadata": {},
   "outputs": [],
   "source": [
    "import os\n",
    "import re\n",
    "import pandas as pd\n",
    "import numpy as np\n",
    "import difflib"
   ]
  },
  {
   "cell_type": "code",
   "execution_count": 2,
   "id": "0d64417f-061f-446c-8b43-18f6ede0c557",
   "metadata": {},
   "outputs": [],
   "source": [
    "OUTPUT_DIR = '../output_data'"
   ]
  },
  {
   "cell_type": "markdown",
   "id": "04af3d50-564a-4f48-87a9-758537364a83",
   "metadata": {},
   "source": [
    "## 1.A. Data Input and Output"
   ]
  },
  {
   "cell_type": "code",
   "execution_count": 3,
   "id": "4dac4c29-2fb9-4b6c-8d62-c5c5fe6b2df3",
   "metadata": {},
   "outputs": [],
   "source": [
    "JMP_INPUT_FILE = '../input_data/JMP/jmp.csv'\n",
    "JMP_OUTPUT_FILE = f'{OUTPUT_DIR}/table_jmp.csv'\n",
    "IFS_INPUT_DIR = '../input_data/IFs'\n",
    "IFS_OUTPUT_FILE = f'{OUTPUT_DIR}/table_ifs.csv'"
   ]
  },
  {
   "cell_type": "markdown",
   "id": "3e915219-1d67-454e-b463-d8f21fc4bacd",
   "metadata": {},
   "source": [
    "## 1.B. Common Functions"
   ]
  },
  {
   "cell_type": "code",
   "execution_count": 4,
   "id": "9b01eeb9-2bba-4ef1-adf6-b32a7ddce8e2",
   "metadata": {},
   "outputs": [],
   "source": [
    "def merge_id(prev_table, keys_table, name):\n",
    "    merged_df = prev_table.merge(keys_table, left_on=name, right_on=name, how='left')\n",
    "    merged_df = merged_df.rename(columns={'id': f'{name}_id'})\n",
    "    merged_df = merged_df.drop(columns=[name])\n",
    "    merged_df[f'{name}_id'] = merged_df[f'{name}_id'].where(merged_df[f'{name}_id'].notna(), 0).astype(int)\n",
    "    return merged_df"
   ]
  },
  {
   "cell_type": "code",
   "execution_count": 5,
   "id": "b550657c-2330-48d5-8883-21ca6caa9428",
   "metadata": {},
   "outputs": [],
   "source": [
    "def cleanup_semicolon(source):\n",
    "    with open(source, 'r') as file:\n",
    "        content = file.read()\n",
    "    updated_content = content.replace(';', '')\n",
    "    with open(source, 'w') as file:\n",
    "        file.write(updated_content)"
   ]
  },
  {
   "cell_type": "code",
   "execution_count": 6,
   "id": "fe5e9d5a-908e-49ff-8657-7992b7818c56",
   "metadata": {},
   "outputs": [],
   "source": [
    "def replace_bs_with_alb(x):\n",
    "    return \"ALB\" if x == \"BS\" else x"
   ]
  },
  {
   "cell_type": "markdown",
   "id": "53b4aa93-6334-4e95-bd98-a3ae6e34a89c",
   "metadata": {},
   "source": [
    "## 1.C. Key Table Generator"
   ]
  },
  {
   "cell_type": "code",
   "execution_count": 7,
   "id": "2a44dfe4-04e5-4875-a5c9-4d01b89043d9",
   "metadata": {},
   "outputs": [],
   "source": [
    "def create_table_key(dataframe, column):\n",
    "    file_path = f'{OUTPUT_DIR}/key_{column}.csv'\n",
    "    new_table = pd.DataFrame(\n",
    "        dataframe[column].unique(),\n",
    "        columns=[column]\n",
    "    ).dropna().sort_values(column).reset_index(drop=True)\n",
    "    \n",
    "    # If the file already exists, load it\n",
    "    if os.path.exists(file_path):\n",
    "        existing_table = pd.read_csv(file_path)\n",
    "        # Find the new values that are not in the existing table\n",
    "        new_values = new_table[~new_table[column].isin(existing_table[column])]\n",
    "        if not new_values.empty:\n",
    "            # Assign IDs to the new values, starting after the max existing ID\n",
    "            max_id = existing_table['id'].max()\n",
    "            new_values['id'] = range(max_id + 1, max_id + 1 + len(new_values))\n",
    "            # Append the new values to the existing table\n",
    "            updated_table = pd.concat([existing_table, new_values], ignore_index=True)\n",
    "        else:\n",
    "            updated_table = existing_table  # No new values to add, keep existing table as is\n",
    "    else:\n",
    "        # If the file doesn't exist, create new IDs starting from 1\n",
    "        new_table['id'] = range(1, len(new_table) + 1)\n",
    "        updated_table = new_table\n",
    "    updated_table[['id', column]].to_csv(file_path, index=False)\n",
    "    return updated_table"
   ]
  },
  {
   "cell_type": "markdown",
   "id": "edf9c2d4-20b0-43c3-8962-d3cf32f3531f",
   "metadata": {},
   "source": [
    "## 1.D. Country Mapping"
   ]
  },
  {
   "cell_type": "code",
   "execution_count": 8,
   "id": "7abc9d9c-3ec5-466c-9087-7263a113c79b",
   "metadata": {},
   "outputs": [],
   "source": [
    "data_jmp = pd.read_csv(JMP_INPUT_FILE, encoding='latin-1')"
   ]
  },
  {
   "cell_type": "code",
   "execution_count": 9,
   "id": "9a2ccbda-d37c-48a7-8177-4ba48b835d50",
   "metadata": {},
   "outputs": [],
   "source": [
    "jmp_country_list = list(data_jmp[\"COUNTRY, AREA OR TERRITORY\"].unique())\n",
    "ifs_country_list = ['All countries WHHS Tool1','Congo Dem. Republic of the','Ethiopia','Ghana','Guatemala','Haiti','India',\n",
    "                    'Indonesia','Kenya','Liberia','Madagascar','Malawi','Mali','Mozambique','Nepal','Nigeria','Philippines',\n",
    "                    'Rwanda','Senegal','Sudan South','Tanzania','Uganda','Zambia']"
   ]
  },
  {
   "cell_type": "code",
   "execution_count": 10,
   "id": "20dc13a4-e3b3-4b5e-8c93-72f428eca161",
   "metadata": {},
   "outputs": [
    {
     "name": "stdout",
     "output_type": "stream",
     "text": [
      "NOT FOUND: All countries WHHS Tool1\n",
      "Congo Dem. Republic of the -> ['Democratic Republic of the Congo', 'Republic of Korea', 'Iran (Islamic Republic of)']\n",
      "Sudan South -> ['Sudan', 'San Marino', 'South Sudan']\n",
      "Tanzania -> ['Panama', 'Canada', 'Mauritania']\n"
     ]
    }
   ],
   "source": [
    "# Find the closest match\n",
    "for country in ifs_country_list:\n",
    "    probability = difflib.get_close_matches(country, jmp_country_list, n=3, cutoff=0.4)\n",
    "    if probability:\n",
    "        if country not in probability:\n",
    "            print(f\"{country} -> {list(probability)}\")\n",
    "    else:\n",
    "        print(f\"NOT FOUND: {country}\")"
   ]
  },
  {
   "cell_type": "code",
   "execution_count": 11,
   "id": "64ff3196-128f-4929-a225-7c248d3fd274",
   "metadata": {},
   "outputs": [],
   "source": [
    "country_mapping = {\n",
    "    \"All countries WHHS Tool1\": \"All Countries\",\n",
    "    \"United Republic of Tanzania\": \"Tanzania\",\n",
    "    \"Congo Dem. Republic of the\": \"Democratic Republic of the Congo\",\n",
    "    \"Sudan South\": \"South Sudan\",\n",
    "}"
   ]
  },
  {
   "cell_type": "code",
   "execution_count": 12,
   "id": "51e9a67d-8042-4607-ad88-8c857913507b",
   "metadata": {},
   "outputs": [],
   "source": [
    "def map_country_name(country):\n",
    "    return country_mapping.get(country, country)"
   ]
  },
  {
   "cell_type": "markdown",
   "id": "a3911430-b9e5-4988-9f61-5567eb6cfcb1",
   "metadata": {},
   "source": [
    "# 3. IFS Dataset"
   ]
  },
  {
   "cell_type": "code",
   "execution_count": 13,
   "id": "164ed590-ed11-41cf-b2e4-911833dcb3e5",
   "metadata": {},
   "outputs": [],
   "source": [
    "final_columns = ['indicator','year','country','unit','value_name','jmp_category','commitment','value']"
   ]
  },
  {
   "cell_type": "code",
   "execution_count": 14,
   "id": "5e810095-97e1-4250-b317-3c6397831680",
   "metadata": {},
   "outputs": [],
   "source": [
    "files_to_keep = [\n",
    "    \"01. Deaths by Category of Cause - Millions (2nd Dimensions = Diarrhea).csv\",\n",
    "    \"06. Poverty Headcount less than $2.15 per Day, Log Normal - Millions.csv\",\n",
    "    \"08. State Failure Instability Event - IFs Index.csv\",\n",
    "    \"11. Governance Effectiveness - WB index.csv\",\n",
    "    # \"12. Value Added by Sector, Currency - Billion dollars.csv\",\n",
    "    \"13. Sanitation Services, Access, percent of population (2nd Dimensions = Basic + Safely Managed).csv\",\n",
    "    # \"14. Sanitation Services, Access, Number of people, million (2nd Dimensions = Basic + Safely Managed).csv\",\n",
    "    # \"15. Sanitation Services, Expenditure, Capital, Billion $ (2nd Dimensions = Basic + Safely Managed).csv\",\n",
    "    # \"16. Sanitation Services, Expenditure, Maintenance, Billion $ (2nd Dimensions = Basic + Safely Managed).csv\",\n",
    "    \"17. Water Services, Access, percent of population (2nd Dimension = Basic + Safely Managed).csv\",\n",
    "    # \"18. Water Services, Access, Number of people, million (2nd Dimensions = Basic + Safely Managed).csv\",\n",
    "    # \"19. Water Services, Expenditure, Capital, Billion $ (2nd Dimensions = Basic + Safely Managed).csv\",\n",
    "    # \"20. Water Services, Expenditure, Maintenance, Billion $ (2nd Dimensions = Basic + Safely Managed).csv\",\n",
    "    # \"21. Population - Millions.csv\",\n",
    "    \"23. GDP (PPP) - Billion dollars.csv\",\n",
    "    \"24. Stunted children, History and Forecast - Million.csv\",\n",
    "    # \"25. Population under 5 Years, Headcount - Millions.csv\",\n",
    "    \"26. Malnourished Children, Headcount - Millions.csv\"\n",
    "]\n",
    "year_filter_config = {\n",
    "    \"year_range\": {\n",
    "        \"years\": list(range(2019, 2050)),\n",
    "        \"files\": [\n",
    "            \"13. Sanitation Services, Access, percent of population (2nd Dimensions = Basic + Safely Managed).csv\",\n",
    "            \"17. Water Services, Access, percent of population (2nd Dimension = Basic + Safely Managed).csv\"\n",
    "        ]\n",
    "    },\n",
    "    \"milestone_years\": [2031, 2049]\n",
    "}"
   ]
  },
  {
   "cell_type": "code",
   "execution_count": 15,
   "id": "61818c39-5583-4cc3-9c51-9e67c5f78688",
   "metadata": {},
   "outputs": [],
   "source": [
    "files = [\n",
    "    f\"{IFS_INPUT_DIR}/{f}\" for f in os.listdir(IFS_INPUT_DIR)\n",
    "    if os.path.isfile(os.path.join(IFS_INPUT_DIR, f))\n",
    "]\n",
    "files = [f\"{IFS_INPUT_DIR}/{file}\" for file in files_to_keep]"
   ]
  },
  {
   "cell_type": "markdown",
   "id": "8b57e456-4de6-47ee-a8d3-b9a796baad7b",
   "metadata": {},
   "source": [
    "## 3.A. IFS Functions"
   ]
  },
  {
   "cell_type": "code",
   "execution_count": 16,
   "id": "9e8eb998-a5f7-4b25-afdd-ea802266d05d",
   "metadata": {},
   "outputs": [],
   "source": [
    "def get_ifs_name(source):\n",
    "    source = re.sub(r\"\\s*\\(2nd Dimension.*?\\)\", \"\", source)\n",
    "    return re.sub(r'^\\d+\\. ', '', source.replace(f\"{IFS_INPUT_DIR}/\", \"\")).replace(\".csv\", \"\")"
   ]
  },
  {
   "cell_type": "code",
   "execution_count": 17,
   "id": "aa977c26-3155-4657-a1ec-f1730f25a597",
   "metadata": {},
   "outputs": [],
   "source": [
    "def get_value_types(lst):\n",
    "    lst = lst.split('.')[0]\n",
    "    lst = lst.replace('_0_','_0.').split(\"_\")\n",
    "    return lst"
   ]
  },
  {
   "cell_type": "code",
   "execution_count": 18,
   "id": "60fdd0c4-dc96-4211-a547-246614a72e38",
   "metadata": {},
   "outputs": [],
   "source": [
    "def cleanup_data(dataframe):\n",
    "    dataframe['unit'] = dataframe['unit'].apply(lambda x: x.replace(\"2017\",\"\") if x else None)\n",
    "    dataframe['value'] = dataframe['value'].apply(lambda x: x.replace(' ','') if ' ' in str(x) else x)\n",
    "    dataframe['value'] = dataframe['value'].apply(lambda x: x if len(str(x)) > 0 else np.nan)"
   ]
  },
  {
   "cell_type": "code",
   "execution_count": 19,
   "id": "5ee36f51-775f-417f-bcaa-e1358305b410",
   "metadata": {},
   "outputs": [],
   "source": [
    "def filter_dataframe_by_year(dataframe, filename):\n",
    "    filename = filename.split(\"/\")[3]\n",
    "    print(\"FN\",filename)\n",
    "    print(\"AL\", year_filter_config[\"year_range\"][\"files\"])\n",
    "    print(\"--\")\n",
    "    if filename in year_filter_config[\"year_range\"][\"files\"]: # Filter using the year_range\n",
    "        filtered_df = dataframe[dataframe['year'].isin(year_filter_config[\"year_range\"][\"years\"])]\n",
    "    else: # Filter using milestone_years\n",
    "        filtered_df = dataframe[dataframe['year'].isin(year_filter_config[\"milestone_years\"])]\n",
    "    return filtered_df.reset_index(drop=True)"
   ]
  },
  {
   "cell_type": "markdown",
   "id": "64063a1f-a75d-4efb-8f15-a540b459c9eb",
   "metadata": {},
   "source": [
    "## 3.B. IFS Data Processing"
   ]
  },
  {
   "cell_type": "markdown",
   "id": "a656ed05-fc1d-4a5c-a817-cbcda4fbb27f",
   "metadata": {},
   "source": [
    "### 3.B.1. Combine, Filter and Remap IFS Values"
   ]
  },
  {
   "cell_type": "code",
   "execution_count": null,
   "id": "5c4aebec-c0ef-49f2-b0e6-220656eacf1b",
   "metadata": {},
   "outputs": [
    {
     "name": "stdout",
     "output_type": "stream",
     "text": [
      "Processing ../input_data/IFs/01. Deaths by Category of Cause - Millions (2nd Dimensions = Diarrhea).csv\n",
      "FN 01. Deaths by Category of Cause - Millions (2nd Dimensions = Diarrhea).csv\n",
      "AL ['13. Sanitation Services, Access, percent of population (2nd Dimensions = Basic + Safely Managed).csv', '17. Water Services, Access, percent of population (2nd Dimension = Basic + Safely Managed).csv']\n",
      "--\n",
      "Processing ../input_data/IFs/06. Poverty Headcount less than $2.15 per Day, Log Normal - Millions.csv\n"
     ]
    }
   ],
   "source": [
    "combined_df = pd.DataFrame(columns=final_columns)\n",
    "for file in files:\n",
    "    print(f\"Processing {file}\")\n",
    "    cleanup_semicolon(file)\n",
    "    data = pd.read_csv(file, header=[1,4,5], sep=',')\n",
    "    new_columns = list(data.columns)\n",
    "    for i, col in enumerate(new_columns):\n",
    "        if col == ('Unnamed: 0_level_0', 'Unnamed: 0_level_1', 'Unnamed: 0_level_2'):\n",
    "            new_columns[i] = 'Year'\n",
    "    data.columns = new_columns\n",
    "    df = pd.DataFrame(data.to_dict('records'))\n",
    "    df_melted = df.melt(id_vars=['Year'], var_name='variable', value_name='value')\n",
    "    new_data = []\n",
    "    for value_list in df_melted.to_dict('records'):\n",
    "        value_type = get_value_types(value_list[\"variable\"][2])\n",
    "        new_data.append({\n",
    "            \"year\": int(value_list[\"Year\"]),\n",
    "            \"country\": map_country_name(value_list[\"variable\"][0]),\n",
    "            \"unit\": value_list[\"variable\"][1],\n",
    "            \"value_type\": list(filter(lambda v:v,value_type)),\n",
    "            \"value\": value_list[\"value\"]\n",
    "        })\n",
    "    df = pd.DataFrame(new_data)\n",
    "    df = filter_dataframe_by_year(df, file)\n",
    "    df_split = pd.DataFrame(df['value_type'].tolist(), index=df.index)\n",
    "    df_split.columns = ['value_name', 'jmp_category', 'commitment']\n",
    "    df_final = pd.concat([df, df_split], axis=1)\n",
    "    df_final['indicator'] = get_ifs_name(file)\n",
    "    df_final['jmp_category'] = df_final['jmp_category'].apply(replace_bs_with_alb)\n",
    "    df_final = df_final[final_columns]\n",
    "    combined_df = pd.concat([combined_df.dropna(axis=1, how='all'), df_final], ignore_index=True)"
   ]
  },
  {
   "cell_type": "markdown",
   "id": "0a5af9f4-d5c9-48b6-a251-37fd46887c15",
   "metadata": {},
   "source": [
    "### 3.B.2. IFS Data Cleanup"
   ]
  },
  {
   "cell_type": "code",
   "execution_count": null,
   "id": "5aee1e3a-7bc1-48c1-90c2-1336c89fa62e",
   "metadata": {},
   "outputs": [],
   "source": [
    "cleanup_data(combined_df)\n",
    "combined_df.head()"
   ]
  },
  {
   "cell_type": "markdown",
   "id": "546c0b8b-2d34-4061-91f5-e7a83cb4db52",
   "metadata": {},
   "source": [
    "**To check the results before merging with the ID, please run the following command:**"
   ]
  },
  {
   "cell_type": "code",
   "execution_count": null,
   "id": "86b323e5-11b1-498f-8da9-14135f40c92f",
   "metadata": {},
   "outputs": [],
   "source": [
    "# combined_df.to_csv(\"./testing.csv\",index=False)"
   ]
  },
  {
   "cell_type": "markdown",
   "id": "85f80609-a0ae-427a-afe3-0f2501c410d5",
   "metadata": {},
   "source": [
    "## 3.C. IFS Table of Keys"
   ]
  },
  {
   "cell_type": "markdown",
   "id": "ace72cd8-8404-47fe-904d-0c5db70e86bb",
   "metadata": {},
   "source": [
    "### 3.C.1. Indicators"
   ]
  },
  {
   "cell_type": "code",
   "execution_count": null,
   "id": "92aaeea6-274d-4d76-be45-fbc6211feaea",
   "metadata": {},
   "outputs": [],
   "source": [
    "indicator_table = create_table_key(combined_df, 'indicator')\n",
    "indicator_table"
   ]
  },
  {
   "cell_type": "markdown",
   "id": "c36aa37d-83a7-4f37-8f6c-307fb1edfaf8",
   "metadata": {},
   "source": [
    "### 3.C.2. Units"
   ]
  },
  {
   "cell_type": "code",
   "execution_count": null,
   "id": "64f17c41-b87f-4113-b8b0-f80278e5fb70",
   "metadata": {},
   "outputs": [],
   "source": [
    "units_table = create_table_key(combined_df, 'unit')\n",
    "units_table"
   ]
  },
  {
   "cell_type": "markdown",
   "id": "42ed11f2-e9d9-47c4-90cf-8254bd65bdff",
   "metadata": {},
   "source": [
    "### 3.C.3. Value Names"
   ]
  },
  {
   "cell_type": "code",
   "execution_count": null,
   "id": "695f782c",
   "metadata": {},
   "outputs": [],
   "source": [
    "value_names_table = create_table_key(combined_df, 'value_name')\n",
    "value_names_table"
   ]
  },
  {
   "cell_type": "markdown",
   "id": "64fbef17-95f2-4f93-8b9f-7edb3a488b01",
   "metadata": {},
   "source": [
    "### 3.C.4. JMP Categories"
   ]
  },
  {
   "cell_type": "code",
   "execution_count": null,
   "id": "ba60c178-3cf3-4eba-98bf-fe57b5c152e3",
   "metadata": {},
   "outputs": [],
   "source": [
    "jmp_categories_table = create_table_key(combined_df, 'jmp_category')\n",
    "jmp_categories_table"
   ]
  },
  {
   "cell_type": "markdown",
   "id": "f0aa2f22-9c4e-4f0c-b2d3-fa8537510b06",
   "metadata": {},
   "source": [
    "### 3.C.5. JMP Names Table (Custom)"
   ]
  },
  {
   "cell_type": "code",
   "execution_count": null,
   "id": "aa47de1b-dab7-48ff-a6f7-17e475ab676b",
   "metadata": {},
   "outputs": [],
   "source": [
    "jmp_names_table = pd.DataFrame([\n",
    "    {\"id\": 1,\"jmp_name\": \"Water\"},\n",
    "    {\"id\": 2,\"jmp_name\": \"Sanitation\"},\n",
    "    {\"id\": 3,\"jmp_name\": \"Water and Sanitation\"}\n",
    "])\n",
    "jmp_names_table.to_csv(f'{OUTPUT_DIR}/key_jmp_name.csv',index=False)"
   ]
  },
  {
   "cell_type": "markdown",
   "id": "f6facba3-58e5-4eec-8751-859219395183",
   "metadata": {},
   "source": [
    "### 3.C.6. Commitments"
   ]
  },
  {
   "cell_type": "code",
   "execution_count": null,
   "id": "7162d386-603f-4131-a993-438edb515586",
   "metadata": {},
   "outputs": [],
   "source": [
    "commitments_table = create_table_key(combined_df, 'commitment')\n",
    "commitments_table"
   ]
  },
  {
   "cell_type": "markdown",
   "id": "76507de6-b1de-416c-8b5b-343f9d11a67e",
   "metadata": {},
   "source": [
    "### 3.C.7. Country"
   ]
  },
  {
   "cell_type": "code",
   "execution_count": null,
   "id": "3ea848ce-3738-47e5-98c1-fa922ccf3e60",
   "metadata": {},
   "outputs": [],
   "source": [
    "countries_table = create_table_key(combined_df, 'country')\n",
    "countries_table"
   ]
  },
  {
   "cell_type": "markdown",
   "id": "3096c8ac-8ce2-4fb4-bbcc-cf31ebd86d1b",
   "metadata": {},
   "source": [
    "## 3.D. IFS Table Results"
   ]
  },
  {
   "cell_type": "markdown",
   "id": "77523793-f455-4575-b544-74582d031f3b",
   "metadata": {},
   "source": [
    "### 3.D.1. Custom Table Mapping (JMP Name)\n",
    "\n",
    "- FS = Full Sanitation Access\n",
    "- FW = Full Water Access\n",
    "- FWS = Full Water and Sanitation Access\n",
    "- SI = Sanitation Increased\n",
    "- WI = Water Increased\n",
    "- WSI = Water and Sanitation Increased"
   ]
  },
  {
   "cell_type": "code",
   "execution_count": null,
   "id": "2adbeb90-f733-4683-98ed-a725aedb1029",
   "metadata": {},
   "outputs": [],
   "source": [
    "jmp_dict = dict(zip(jmp_names_table['jmp_name'], jmp_names_table['id']))"
   ]
  },
  {
   "cell_type": "code",
   "execution_count": null,
   "id": "71fbc3e1-a954-4fa5-b702-d24fed297755",
   "metadata": {},
   "outputs": [],
   "source": [
    "def map_jmp_id(jmp_type):\n",
    "    if 'W' in jmp_type and 'S' in jmp_type: # Water and Sanitation is indicated by 'WS' combined\n",
    "        return jmp_dict['Water and Sanitation']\n",
    "    if 'W' in jmp_type:  # Water is indicated by 'W'\n",
    "        return jmp_dict['Water']\n",
    "    if 'S' in jmp_type:  # Sanitation is indicated by 'S'\n",
    "        return jmp_dict['Sanitation']\n",
    "    # Assuming that this is the Base data\n",
    "    return 0"
   ]
  },
  {
   "cell_type": "code",
   "execution_count": null,
   "id": "46ba2ea0-1910-4640-8eed-701727231376",
   "metadata": {},
   "outputs": [],
   "source": [
    "combined_df['jmp_name_id'] = combined_df['value_name'].apply(map_jmp_id)\n",
    "combined_df.tail(2)"
   ]
  },
  {
   "cell_type": "markdown",
   "id": "322cde27-98ff-43b7-bbb2-b6559cd71a9e",
   "metadata": {},
   "source": [
    "### 3.D.2. IFS Key Table Mapping"
   ]
  },
  {
   "cell_type": "code",
   "execution_count": null,
   "id": "8116e707-ea75-492a-bfd9-a3e96b512661",
   "metadata": {},
   "outputs": [],
   "source": [
    "table_with_id = merge_id(combined_df, indicator_table, 'indicator')\n",
    "table_with_id = merge_id(table_with_id, units_table, 'unit')\n",
    "table_with_id = merge_id(table_with_id, value_names_table, 'value_name')\n",
    "table_with_id = merge_id(table_with_id, jmp_categories_table, 'jmp_category')\n",
    "table_with_id = merge_id(table_with_id, commitments_table, 'commitment')\n",
    "table_with_id = merge_id(table_with_id, countries_table, 'country')"
   ]
  },
  {
   "cell_type": "markdown",
   "id": "ae47635c-b680-426a-b9ad-b58f496f93ad",
   "metadata": {},
   "source": [
    "### 3.D.3. IFS Final Result"
   ]
  },
  {
   "cell_type": "code",
   "execution_count": null,
   "id": "b0e37692-1e0c-4aae-bf30-218cacf27fb3",
   "metadata": {},
   "outputs": [],
   "source": [
    "table_with_id = table_with_id[table_with_id['value'].notna()]\n",
    "table_with_id = table_with_id.sort_values('year')\n",
    "table_with_id.reset_index(drop=True).tail()"
   ]
  },
  {
   "cell_type": "markdown",
   "id": "b1f7bd61-f77b-451d-abd4-e2e3a26b6923",
   "metadata": {},
   "source": [
    "### 3.D.2. Save IFS Table"
   ]
  },
  {
   "cell_type": "code",
   "execution_count": null,
   "id": "85825252-74ec-44f2-b119-60b7817d0c70",
   "metadata": {},
   "outputs": [],
   "source": [
    "table_with_id.to_csv(IFS_OUTPUT_FILE, index=False)"
   ]
  },
  {
   "cell_type": "markdown",
   "id": "87baca1a-ad3d-4308-acc0-bbd1cfaaec13",
   "metadata": {},
   "source": [
    "# 2. JMP Dataset"
   ]
  },
  {
   "cell_type": "code",
   "execution_count": null,
   "id": "26dea750-3944-47c6-a2a1-57cdec474550",
   "metadata": {},
   "outputs": [],
   "source": [
    "data = pd.read_csv(JMP_INPUT_FILE, encoding='latin-1')\n",
    "data.head()"
   ]
  },
  {
   "cell_type": "markdown",
   "id": "bb965556-a0ae-46d7-bfec-01678b46cd80",
   "metadata": {},
   "source": [
    "## 2.A. JMP Data Processing"
   ]
  },
  {
   "cell_type": "markdown",
   "id": "ed3a3cfc-af7c-4ef1-8510-63b36eacb772",
   "metadata": {},
   "source": [
    "### 2.A.1. Rename the columns"
   ]
  },
  {
   "cell_type": "code",
   "execution_count": null,
   "id": "6766bc8e-657b-454e-aae4-b62876909405",
   "metadata": {},
   "outputs": [],
   "source": [
    "data.columns = [\n",
    "    'country',\n",
    "    'year',\n",
    "    'jmp_name',\n",
    "    'total_ALB',\n",
    "    'annual_rate_change_ALB',\n",
    "    'total_SM',\n",
    "    'annual_rate_change_SM',\n",
    "    'manual_rate_change_SM',\n",
    "    'manual_rate_change_ALB'\n",
    "]\n",
    "data.head()"
   ]
  },
  {
   "cell_type": "markdown",
   "id": "b4f04c87-d3bd-4df3-8e12-a8efe41f36a8",
   "metadata": {},
   "source": [
    "### 2.A.2. Categorize the Values"
   ]
  },
  {
   "cell_type": "code",
   "execution_count": null,
   "id": "88c560c4-727f-48f2-96bc-b58b451afa7e",
   "metadata": {},
   "outputs": [],
   "source": [
    "data_melted = pd.melt(\n",
    "    data, \n",
    "    id_vars=['country', 'year', 'jmp_name'],  # columns to keep\n",
    "    var_name='variable',  # melted\n",
    "    value_name='value' # values\n",
    ")\n",
    "data_melted['value_type'] = data_melted['variable'].apply(lambda x: 'total' if 'total' in x else 'annual_rate_change')\n",
    "data_melted['jmp_category'] = data_melted['variable'].apply(lambda x: 'ALB' if 'ALB' in x else 'SM')\n",
    "data_melted['jmp_category'] = data_melted['jmp_category'].apply(replace_bs_with_alb)\n",
    "data_melted['country'] = data_melted['country'].apply(map_country_name)\n",
    "data_melted = data_melted.drop(columns=['variable'])\n",
    "data_melted.head()"
   ]
  },
  {
   "cell_type": "markdown",
   "id": "33e7e137-d7cf-412a-b960-8efb39c611c6",
   "metadata": {},
   "source": [
    "## 2.B. JMP Table Keys"
   ]
  },
  {
   "cell_type": "markdown",
   "id": "fac78204-08e8-4ef4-a34e-c76e124b6b14",
   "metadata": {},
   "source": [
    "### 2.B.1. JMP Categories (Retry)"
   ]
  },
  {
   "cell_type": "code",
   "execution_count": null,
   "id": "833f2db9-9620-4054-9e78-e80ff0bd92ff",
   "metadata": {},
   "outputs": [],
   "source": [
    "jmp_categories_table = create_table_key(data_melted, 'jmp_category')\n",
    "jmp_categories_table"
   ]
  },
  {
   "cell_type": "markdown",
   "id": "056cfe74-6485-42d3-af78-0203fe5c7768",
   "metadata": {},
   "source": [
    "### 2.B.2. JMP Value Types"
   ]
  },
  {
   "cell_type": "code",
   "execution_count": null,
   "id": "7422c16f",
   "metadata": {},
   "outputs": [],
   "source": [
    "value_types_table = create_table_key(data_melted, 'value_type')\n",
    "value_types_table"
   ]
  },
  {
   "cell_type": "markdown",
   "id": "908502cd-575c-49a0-a6e4-52b6bf13442c",
   "metadata": {},
   "source": [
    "## 2.C. JMP Table Results"
   ]
  },
  {
   "cell_type": "markdown",
   "id": "12f70586-5135-4408-8cf6-d3189402d6ce",
   "metadata": {},
   "source": [
    "### 2.C.1. JMP Key Table Mapping"
   ]
  },
  {
   "cell_type": "code",
   "execution_count": null,
   "id": "9817c591-dff0-42fa-9426-e9f9cf420d00",
   "metadata": {},
   "outputs": [],
   "source": [
    "table_with_id = merge_id(data_melted, value_types_table, 'value_type')\n",
    "table_with_id = merge_id(table_with_id, countries_table, 'country')\n",
    "table_with_id = merge_id(table_with_id, jmp_names_table, 'jmp_name')\n",
    "table_with_id = merge_id(table_with_id, jmp_categories_table, 'jmp_category')"
   ]
  },
  {
   "cell_type": "markdown",
   "id": "1aec173a-6dcf-4fcc-ba89-300f3d641863",
   "metadata": {},
   "source": [
    "### 2.C.2. JMP Data Cleanup\n",
    "- Remove Nullable Country"
   ]
  },
  {
   "cell_type": "code",
   "execution_count": null,
   "id": "b5e316ec-16b5-4582-9704-cbcea2fa639f",
   "metadata": {},
   "outputs": [],
   "source": [
    "table_with_id = table_with_id[table_with_id['country_id'] != 0].reset_index(drop=True)"
   ]
  },
  {
   "cell_type": "markdown",
   "id": "8bd05a80-45f5-488e-b99d-2b898bda3fa8",
   "metadata": {},
   "source": [
    "### 2.C.3. JMP Final Result"
   ]
  },
  {
   "cell_type": "code",
   "execution_count": null,
   "id": "fafb897d-be5f-4ed8-97a9-64fb16ed4fac",
   "metadata": {},
   "outputs": [],
   "source": [
    "table_with_id.head()"
   ]
  },
  {
   "cell_type": "markdown",
   "id": "8a065307-bc8a-49e2-ae5d-0811ea5675d7",
   "metadata": {},
   "source": [
    "### 2.C.3. Save JMP Table"
   ]
  },
  {
   "cell_type": "code",
   "execution_count": null,
   "id": "abfbf63c-fa5d-4835-a072-7918cff57c56",
   "metadata": {},
   "outputs": [],
   "source": [
    "table_with_id.to_csv(JMP_OUTPUT_FILE, index=False)"
   ]
  }
 ],
 "metadata": {
  "kernelspec": {
   "display_name": "Python 3 (ipykernel)",
   "language": "python",
   "name": "python3"
  },
  "language_info": {
   "codemirror_mode": {
    "name": "ipython",
    "version": 3
   },
   "file_extension": ".py",
   "mimetype": "text/x-python",
   "name": "python",
   "nbconvert_exporter": "python",
   "pygments_lexer": "ipython3",
   "version": "3.10.7"
  }
 },
 "nbformat": 4,
 "nbformat_minor": 5
}
