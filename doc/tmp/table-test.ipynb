{
 "cells": [
  {
   "cell_type": "code",
   "execution_count": 597,
   "id": "73e649f3-dd5f-4c34-9978-710a18290091",
   "metadata": {},
   "outputs": [],
   "source": [
    "import os\n",
    "import pandas as pd\n",
    "import csv\n",
    "import re"
   ]
  },
  {
   "cell_type": "code",
   "execution_count": 572,
   "id": "164ed590-ed11-41cf-b2e4-911833dcb3e5",
   "metadata": {},
   "outputs": [],
   "source": [
    "INPUT_DIR = '../input_data/IFs'\n",
    "OUTPUT_DIR = '../input_data/IFs_cleaned'"
   ]
  },
  {
   "cell_type": "code",
   "execution_count": 573,
   "id": "9642e103-76bd-43cb-8c15-06f3675572e3",
   "metadata": {},
   "outputs": [],
   "source": [
    "files = [\n",
    "    f\"{INPUT_DIR}/{f}\" for f in os.listdir(INPUT_DIR)\n",
    "    if os.path.isfile(os.path.join(INPUT_DIR, f))\n",
    "]"
   ]
  },
  {
   "cell_type": "code",
   "execution_count": null,
   "id": "9e8eb998-a5f7-4b25-afdd-ea802266d05d",
   "metadata": {},
   "outputs": [],
   "source": [
    "def get_ifs_name(source):\n",
    "    return re.sub(r'^\\d+\\. ', '', files[0].replace(f\"{INPUT_DIR}/\", \"\")).replace(\".csv\", \"\")"
   ]
  },
  {
   "cell_type": "code",
   "execution_count": 574,
   "id": "dad678ad-cd86-4ee0-af4d-170696f70c6e",
   "metadata": {},
   "outputs": [],
   "source": [
    "def cleanup_semicolon(source):\n",
    "    with open(files[0], 'r') as file:\n",
    "        content = file.read()\n",
    "    updated_content = content.replace(';', '')\n",
    "    with open(files[0], 'w') as file:\n",
    "        file.write(updated_content)"
   ]
  },
  {
   "cell_type": "code",
   "execution_count": 575,
   "id": "5c4aebec-c0ef-49f2-b0e6-220656eacf1b",
   "metadata": {},
   "outputs": [],
   "source": [
    "cleanup_semicolon(files[0])"
   ]
  },
  {
   "cell_type": "code",
   "execution_count": 576,
   "id": "1de6c927-6581-43be-808b-695251b7e113",
   "metadata": {},
   "outputs": [],
   "source": [
    "data = pd.read_csv(files[0], header=[1,4,5], sep=',')"
   ]
  },
  {
   "cell_type": "code",
   "execution_count": 577,
   "id": "3772cdd6-0476-44f3-ae71-b40fdbbee5d9",
   "metadata": {},
   "outputs": [],
   "source": [
    "new_columns = list(data.columns)\n",
    "for i, col in enumerate(new_columns):\n",
    "    if col == ('Unnamed: 0_level_0', 'Unnamed: 0_level_1', 'Unnamed: 0_level_2'):\n",
    "        new_columns[i] = 'Year'"
   ]
  },
  {
   "cell_type": "code",
   "execution_count": 578,
   "id": "ddd5f296-c179-4567-bcfd-33d11c2ecb64",
   "metadata": {},
   "outputs": [],
   "source": [
    "data.columns = new_columns"
   ]
  },
  {
   "cell_type": "code",
   "execution_count": 579,
   "id": "79d13ed3-7439-405f-beac-b4828e27ce07",
   "metadata": {},
   "outputs": [],
   "source": [
    "df = pd.DataFrame(data.to_dict('records'))"
   ]
  },
  {
   "cell_type": "code",
   "execution_count": 580,
   "id": "86b323e5-11b1-498f-8da9-14135f40c92f",
   "metadata": {},
   "outputs": [],
   "source": [
    "df_melted = df.melt(id_vars=['Year'], var_name='variable', value_name='value')"
   ]
  },
  {
   "cell_type": "code",
   "execution_count": 581,
   "id": "ecbf6b4b-6341-4dc1-9f03-034f7fe280ed",
   "metadata": {},
   "outputs": [],
   "source": [
    "new_data = []\n",
    "for value_list in df_melted.to_dict('records'):\n",
    "    new_data.append({\n",
    "        \"year\": value_list[\"Year\"],\n",
    "        \"country\": value_list[\"variable\"][0],\n",
    "        \"unit\": value_list[\"variable\"][1],\n",
    "        \"value_type\": list(filter(lambda v:v,value_list[\"variable\"][2].split(\"_\"))),\n",
    "        \"value\": value_list[\"value\"]\n",
    "    })"
   ]
  },
  {
   "cell_type": "code",
   "execution_count": 582,
   "id": "73bbf36b-21ca-484e-b08f-285e531c3b1b",
   "metadata": {},
   "outputs": [],
   "source": [
    "df = pd.DataFrame(new_data)"
   ]
  },
  {
   "cell_type": "code",
   "execution_count": 583,
   "id": "c47e0fe1-9f82-4a6a-9899-4b3b5d45c0df",
   "metadata": {},
   "outputs": [],
   "source": [
    "df_split = pd.DataFrame(df['value_type'].tolist(), index=df.index)\n",
    "df_split.columns = ['value_name', 'jmp_category', 'commitment','other']\n",
    "df_final = pd.concat([df, df_split], axis=1)\n",
    "df_final = df_final[['year','country','unit','value_name','jmp_category','commitment','value']]"
   ]
  },
  {
   "cell_type": "code",
   "execution_count": 594,
   "id": "78d29221-9331-4148-92f7-19d78cd1587e",
   "metadata": {},
   "outputs": [],
   "source": [
    "df_final.to_csv(\"testing.csv\", index=False)"
   ]
  },
  {
   "cell_type": "code",
   "execution_count": null,
   "id": "25bf8af6-41d5-4995-b85a-4cf9f68c5ae2",
   "metadata": {},
   "outputs": [],
   "source": []
  }
 ],
 "metadata": {
  "kernelspec": {
   "display_name": "Python 3 (ipykernel)",
   "language": "python",
   "name": "python3"
  },
  "language_info": {
   "codemirror_mode": {
    "name": "ipython",
    "version": 3
   },
   "file_extension": ".py",
   "mimetype": "text/x-python",
   "name": "python",
   "nbconvert_exporter": "python",
   "pygments_lexer": "ipython3",
   "version": "3.10.7"
  }
 },
 "nbformat": 4,
 "nbformat_minor": 5
}
